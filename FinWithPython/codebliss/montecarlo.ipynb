{
 "cells": [
  {
   "cell_type": "code",
   "execution_count": null,
   "metadata": {},
   "outputs": [],
   "source": [
    "import pandas_datareader.data as web\n",
    "import pandas as pd\n",
    "import datetime as dt\n",
    "import numpy as np\n",
    "import matplotlib.pyplot as plt\n",
    "from matplotlib import style\n",
    "\n",
    "style.use('ggplot')\n",
    "\n",
    "start = dt.datetime(2017, 1, 3)\n",
    "end = dt.datetime(2017, 11, 20)"
   ]
  },
  {
   "cell_type": "code",
   "execution_count": null,
   "metadata": {},
   "outputs": [],
   "source": [
    "prices = web.DataReader('AAPL', 'yahoo', start, end)['Close']"
   ]
  },
  {
   "cell_type": "code",
   "execution_count": null,
   "metadata": {},
   "outputs": [],
   "source": [
    "returns = prices.pct_change()\n",
    "last_price = prices[-1]\n",
    "last_price\n",
    "returns"
   ]
  },
  {
   "cell_type": "code",
   "execution_count": null,
   "metadata": {},
   "outputs": [],
   "source": [
    "num_simulations = 1000\n",
    "num_days = 252\n",
    "\n",
    "simulation_df = pd.DataFrame()\n",
    "\n",
    "for x in range(num_simulations):\n",
    "    count = 0\n",
    "    daily_vol = returns.std()\n",
    "    \n",
    "    price_series = []\n",
    "    \n",
    "    price = last_price * (1 + np.random.normal(0, daily_vol))\n",
    "    price_series.append(price)\n",
    "    \n",
    "    for y in range(num_days):\n",
    "        if count == 251:\n",
    "            break\n",
    "        price = price_series[count] * (1 + np.random.normal(0, daily_vol))\n",
    "        price_series.append(price)\n",
    "        count += 1\n",
    "    \n",
    "    simulation_df[x] = price_series\n",
    "    "
   ]
  },
  {
   "cell_type": "code",
   "execution_count": null,
   "metadata": {},
   "outputs": [],
   "source": [
    "simulation_df"
   ]
  },
  {
   "cell_type": "code",
   "execution_count": null,
   "metadata": {},
   "outputs": [],
   "source": [
    "fig = plt.figure()\n",
    "fig.suptitle('Monte Carlo Simulation: AAPL')\n",
    "plt.plot(simulation_df)\n",
    "plt.axhline(y = last_price, color = 'r', linestyle = '-')\n",
    "plt.xlabel('Day')\n",
    "plt.ylabel('Price')\n",
    "# plt.show()"
   ]
  },
  {
   "cell_type": "code",
   "execution_count": null,
   "metadata": {},
   "outputs": [],
   "source": []
  }
 ],
 "metadata": {
  "interpreter": {
   "hash": "aee8b7b246df8f9039afb4144a1f6fd8d2ca17a180786b69acc140d282b71a49"
  },
  "kernelspec": {
   "display_name": "Python 3.10.2 64-bit",
   "language": "python",
   "name": "python3"
  },
  "language_info": {
   "codemirror_mode": {
    "name": "ipython",
    "version": 3
   },
   "file_extension": ".py",
   "mimetype": "text/x-python",
   "name": "python",
   "nbconvert_exporter": "python",
   "pygments_lexer": "ipython3",
   "version": "3.10.2"
  },
  "orig_nbformat": 4
 },
 "nbformat": 4,
 "nbformat_minor": 2
}
