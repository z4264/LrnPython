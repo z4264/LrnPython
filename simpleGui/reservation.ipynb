{
 "cells": [
  {
   "cell_type": "code",
   "execution_count": 3,
   "metadata": {},
   "outputs": [],
   "source": [
    "import PySimpleGUI as sg\n",
    "import contact_information_table_window\n",
    "\n",
    "contact_information_array = []\n",
    "headings = ['Full Name', 'Address', 'Phone Number']\n",
    "\n",
    "layout = [[sg.Text(\"Enter full name:\"), sg.Input(key='-NAME-', do_not_clear=True, size=(20, 1))],\n",
    "          [sg.Text(\"Enter address:\"), sg.Input(key='-ADDRESS-', do_not_clear=True, size=(10, 1))],\n",
    "          [sg.Text(\"Enter phone number:\"), sg.Input(key='-PHONE_NUMBER-', do_not_clear=True, size=(10, 1))],\n",
    "          [sg.Button('Submit Contact Information'), sg.Button('Show Table'), sg.Exit()]]\n",
    "\n",
    "window = sg.Window(\"Submit Contact Information\", layout)\n",
    "\n",
    "while True:\n",
    "    event, values = window.read()\n",
    "    if event in (sg.WIN_CLOSED, 'Exit'):\n",
    "        window.close()\n",
    "        break\n",
    "    elif event == 'Submit Contact Information':\n",
    "        contact_information = [values['-NAME-'], values['-ADDRESS-'], values['-PHONE_NUMBER-']]\n",
    "        contact_information_array.append(contact_information)\n",
    "        sg.popup(\"Contact Information Submitted!\")\n",
    "    elif event == 'Show Table':\n",
    "        contact_information_table_window.create(contact_information_array, headings)"
   ]
  },
  {
   "cell_type": "code",
   "execution_count": null,
   "metadata": {},
   "outputs": [],
   "source": []
  }
 ],
 "metadata": {
  "interpreter": {
   "hash": "aee8b7b246df8f9039afb4144a1f6fd8d2ca17a180786b69acc140d282b71a49"
  },
  "kernelspec": {
   "display_name": "Python 3.10.2 64-bit",
   "language": "python",
   "name": "python3"
  },
  "language_info": {
   "codemirror_mode": {
    "name": "ipython",
    "version": 3
   },
   "file_extension": ".py",
   "mimetype": "text/x-python",
   "name": "python",
   "nbconvert_exporter": "python",
   "pygments_lexer": "ipython3",
   "version": "3.10.2"
  },
  "orig_nbformat": 4
 },
 "nbformat": 4,
 "nbformat_minor": 2
}
