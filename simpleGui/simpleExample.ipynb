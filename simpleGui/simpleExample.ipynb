{
 "cells": [
  {
   "cell_type": "code",
   "execution_count": null,
   "metadata": {},
   "outputs": [],
   "source": []
  },
  {
   "cell_type": "code",
   "execution_count": null,
   "metadata": {},
   "outputs": [],
   "source": [
    "import PySimpleGUI as sg\n",
    "\n",
    "contact_information_array = [\n",
    "    ['Amith', '161 Magnolia St', '331-569'],\n",
    "    ['John', '392 Butcher St', '243-897'],\n",
    "    ['Amith', '3341 Columbus Ave', '998-731']\n",
    "]\n",
    "\n",
    "headings = ['Full Name', 'Address', 'Phone Number']\n",
    "\n",
    "layout = [\n",
    "        [sg.Table(values=contact_information_array, \n",
    "        headings=headings, \n",
    "        max_col_width=35,\n",
    "                    auto_size_columns=True,\n",
    "                    display_row_numbers=True,\n",
    "                    justification='right',\n",
    "                    num_rows=10,\n",
    "                    key='-TABLE-',\n",
    "                    row_height=35)]\n",
    "    ]\n",
    "\n",
    "window = sg.Window(\"Contact Information Window\", layout)\n",
    "\n",
    "while True:\n",
    "    event, values = window.read()\n",
    "    if event == \"Exit\" or event == sg.WIN_CLOSED:\n",
    "        break\n",
    "        \n",
    "window.close()"
   ]
  }
 ],
 "metadata": {
  "language_info": {
   "name": "python"
  },
  "orig_nbformat": 4
 },
 "nbformat": 4,
 "nbformat_minor": 2
}
