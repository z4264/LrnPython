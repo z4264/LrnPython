{
 "cells": [
  {
   "cell_type": "code",
   "execution_count": null,
   "metadata": {},
   "outputs": [],
   "source": [
    "import easyimap as e\n",
    "import re, os, base64\n",
    "\n",
    "imap_url = \"imap.gmail.com\"\n",
    "# Environment variables set in ~/.zshrc\n",
    "usrname = os.environ.get(\"GM_USR\")\n",
    "passwd = os.environ.get(\"GM_PWD\")\n",
    "\n",
    "attachment_dir = r'/Users/pengfeimacbook18/Library/CloudStorage/OneDrive-Personal/Workspace 2/LrnPython/gmail/attatchment' \n",
    "\n",
    "def encoded_words_to_text(encoded_words):\n",
    "    encoded_word_regex = r'=\\?{1}(.+)\\?{1}([B|Q])\\?{1}(.+)\\?{1}='\n",
    "    charset, encoding, encoded_text = re.match(encoded_word_regex, encoded_words).groups()\n",
    "    if encoding == 'B':\n",
    "        byte_string = base64.b64decode(encoded_text)\n",
    "    elif encoding == 'Q':\n",
    "        byte_string = quopri.decodestring(encoded_text)\n",
    "    return byte_string.decode(charset)\n",
    "\n",
    "server = e.connect(imap_url, usrname, passwd)\n",
    "server.listids()"
   ]
  },
  {
   "cell_type": "code",
   "execution_count": null,
   "metadata": {},
   "outputs": [],
   "source": [
    "email = server.mail(server.listids()[0])\n",
    "# email = server.mail(b'464763')\n",
    "\n",
    "print(email.title)\n",
    "# print(email.raw)\n",
    "print(email.from_addr)\n",
    "print(email.delivered_to)\n",
    "print(email.body)\n",
    "\n",
    "for attachment in email.attachments:\n",
    "    # print(attachment[0])\n",
    "    # print(attachment[1])\n",
    "    try:\n",
    "        fileName = encoded_words_to_text(attachment[0])\n",
    "    except:\n",
    "        fileName = attachment[0]\n",
    "    # print(fileName)\n",
    "\n",
    "    filePath = os.path.join(attachment_dir, fileName)\n",
    "    with open(filePath,'wb') as f:\n",
    "        f.write(email.attachments[0][1])"
   ]
  },
  {
   "cell_type": "code",
   "execution_count": null,
   "metadata": {},
   "outputs": [],
   "source": []
  }
 ],
 "metadata": {
  "interpreter": {
   "hash": "aee8b7b246df8f9039afb4144a1f6fd8d2ca17a180786b69acc140d282b71a49"
  },
  "kernelspec": {
   "display_name": "Python 3.10.2 64-bit",
   "language": "python",
   "name": "python3"
  },
  "language_info": {
   "codemirror_mode": {
    "name": "ipython",
    "version": 3
   },
   "file_extension": ".py",
   "mimetype": "text/x-python",
   "name": "python",
   "nbconvert_exporter": "python",
   "pygments_lexer": "ipython3",
   "version": "3.10.2"
  },
  "orig_nbformat": 4
 },
 "nbformat": 4,
 "nbformat_minor": 2
}
