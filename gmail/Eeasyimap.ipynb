{
 "cells": [
  {
   "cell_type": "code",
   "execution_count": null,
   "metadata": {},
   "outputs": [],
   "source": [
    "import easyimap as e\n",
    "import re, os, base64, quopri\n",
    "\n",
    "imap_url = \"imap.gmail.com\"\n",
    "# Environment variables set in ~/.zshrc\n",
    "usrname = os.environ.get(\"GM_USR\")\n",
    "passwd = os.environ.get(\"GM_PWD\")\n",
    "mailbx = \"Weekly\"\n",
    "\n",
    "attachment_dir = r'/Users/pengfeimacbook18/Library/CloudStorage/OneDrive-Personal/Workspace 2/LrnPython/gmail/attatchment' \n",
    "\n",
    "def encoded_words_to_text(encoded_words):\n",
    "    encoded_word_regex = r'=\\?{1}(.+)\\?{1}([B|Q])\\?{1}(.+)\\?{1}='\n",
    "    # =?utf-8?b?55uu5qch5om/6k+6lewnmumamumbhuaikc0ymdiymdmxny54bhn4?=\n",
    "    charset, encoding, encoded_text = re.match(encoded_word_regex, encoded_words).groups()\n",
    "    if encoding == 'B':\n",
    "        byte_string = base64.b64decode(encoded_text)\n",
    "    elif encoding == 'Q':\n",
    "        byte_string = quopri.decodestring(encoded_text)\n",
    "    return byte_string.decode(charset)\n",
    "\n",
    "server = e.connect(imap_url, usrname, passwd, mailbx)\n",
    "server.listids() #limit = 10"
   ]
  },
  {
   "cell_type": "code",
   "execution_count": null,
   "metadata": {},
   "outputs": [],
   "source": [
    "for id in server.listids(limit=1000):\n",
    "    eml = server.mail(id)\n",
    "    print(eml.date)\n",
    "    print(eml.title)\n",
    "    print(eml.from_addr)\n",
    "\n",
    "    for attachment in eml.attachments:\n",
    "        try:\n",
    "            fileName = encoded_words_to_text(attachment[0])\n",
    "        except:\n",
    "            fileName = attachment[0]\n",
    "\n",
    "        filePath = os.path.join(attachment_dir, fileName)\n",
    "\n",
    "        with open(filePath,'wb') as f:\n",
    "            f.write(attachment[1])"
   ]
  }
 ],
 "metadata": {
  "interpreter": {
   "hash": "aee8b7b246df8f9039afb4144a1f6fd8d2ca17a180786b69acc140d282b71a49"
  },
  "kernelspec": {
   "display_name": "Python 3.10.2 64-bit",
   "language": "python",
   "name": "python3"
  },
  "language_info": {
   "codemirror_mode": {
    "name": "ipython",
    "version": 3
   },
   "file_extension": ".py",
   "mimetype": "text/x-python",
   "name": "python",
   "nbconvert_exporter": "python",
   "pygments_lexer": "ipython3",
   "version": "3.10.2"
  },
  "orig_nbformat": 4
 },
 "nbformat": 4,
 "nbformat_minor": 2
}
